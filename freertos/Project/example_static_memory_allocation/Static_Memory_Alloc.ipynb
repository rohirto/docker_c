{
 "cells": [
  {
   "cell_type": "markdown",
   "metadata": {},
   "source": [
    "# Static Memory Alloc in FreeRTOS\n",
    "\n",
    "- When enabled, you can create FreeRTOS objects (tasks, semaphores, etc.) using static memory that you provide, instead of relying on FreeRTOS's dynamic memory allocation routines (pvPortMalloc() and vPortFree()).\n",
    "-  where dynamic memory allocation is undesirable, such as safety-critical systems, deeply embedded systems with strict memory constraints, or systems with no heap.\n",
    "- Can use it Concurrently with Dynamic Alloc\n",
    "\n",
    "## Using it\n",
    "\n",
    "- Enable below macro in FreeRTOSConfig.h\n",
    "```#define configSUPPORT_STATIC_ALLOCATION 1\n",
    "```\n",
    "\n",
    "- Define 2 User Functions\n",
    "    1. ```vApplicationGetIdleTaskMemory```\n",
    "    2. ```vApplicationGetIdleTaskMemory```\n",
    "\n",
    "## Uses\n",
    "- ```xTaskCreateStatic()``` for creating tasks with static memory.\n",
    "- ```xQueueCreateStatic()``` for creating queues with static memory.\n",
    "- ```xSemaphoreCreateMutexStatic()``` or ```xSemaphoreCreateBinaryStatic()``` for creating semaphores with static memory."
   ]
  }
 ],
 "metadata": {
  "language_info": {
   "name": "python"
  }
 },
 "nbformat": 4,
 "nbformat_minor": 2
}
