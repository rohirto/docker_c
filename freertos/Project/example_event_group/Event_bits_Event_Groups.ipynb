{
 "cells": [
  {
   "cell_type": "markdown",
   "metadata": {},
   "source": [
    "# Event Bits\n",
    "\n",
    "- Event bits are used to indicate if an event has occurred or not. \n",
    "- Event bits are often referred to as event flags\n",
    "- For example, an application may:\n",
    "    + Define a bit (or flag) that means \"A message has been received and is ready for processing\" when it is set to 1, and \"there are no messages waiting to be processed\" when it is set to 0.\n",
    "    + Define a bit (or flag) that means \"The application has queued a message that is ready to be sent to a network\" when it is set to 1, and \"there are no messages queued ready to be sent to the network\" when it is set to 0.\n",
    "    + Define a bit (or flag) that means \"It is time to send a heartbeat message onto a network\" when it is set to 1, and \"it is not yet time to send another heartbeat message\" when it is set to 0.\n",
    "\n",
    "# Event Groups\n",
    "\n",
    "- An event group is a set of event bits. \n",
    "- Individual event bits within an event group are referenced by a bit number. \n",
    "- Expanding the example provided above:\n",
    "    + The event bit that means \"A message has been received and is ready for processing\" might be bit number 0 within an event group.\n",
    "    + The event bit that means \"The application has queued a message that is ready to be sent to a network\" might be bit number 1 within the same event group.\n",
    "    + The event bit that means \"It is time to send a heartbeat message onto a network\" might be bit number 2 within the same event group.\n",
    "\n",
    "# Event Group and Event Bits Data Types\n",
    "\n",
    "- Event groups are referenced by variables of type EventGroupHandle_t.\n",
    "\n",
    "- The number of bits (or flags) implemented within an event group depends on whether configUSE_16_BIT_TICKS or configTICK_TYPE_WIDTH_IN_BITS is used to control the type of TickType_t:\n",
    "    + The number of bits (or flags) implemented within an event group is 8 if configUSE_16_BIT_TICKS is set to 1, or 24 if configUSE_16_BIT_TICKS is set to 0.\n",
    "    + The number of bits (or flags) implemented within an event group is 8 if configTICK_TYPE_WIDTH_IN_BITS is set to TICK_TYPE_WIDTH_16_BITS, or 24 if configTICK_TYPE_WIDTH_IN_BITS is set to TICK_TYPE_WIDTH_32_BITS, or 56 if configTICK_TYPE_WIDTH_IN_BITS is set to TICK_TYPE_WIDTH_64_BITS.\n",
    "\n",
    "# Event Group RTOS API Functions\n",
    "\n",
    "    vEventGroupDelete\n",
    "    xEventGroupClearBits\n",
    "    xEventGroupClearBitsFromISR\n",
    "    xEventGroupCreate\n",
    "    xEventGroupCreateStatic\n",
    "    xEventGroupGetBits\n",
    "    xEventGroupGetBitsFromISR\n",
    "    xEventGroupGetStaticBuffer\n",
    "    xEventGroupSetBits\n",
    "    xEventGroupSetBitsFromISR\n",
    "    xEventGroupSync\n",
    "    xEventGroupWaitBits\n",
    "\n",
    "- These Functions allow a task to, among other things, set one or more event bits within an event group, clear one or more event bits within an event group, and pend (enter the Blocked state so the task does not consume any processing time) to wait for a set of one or more event bits to become set within an event group."
   ]
  },
  {
   "cell_type": "markdown",
   "metadata": {},
   "source": [
    "# Chatgpt Explaination\n",
    "\n",
    "Event groups in FreeRTOS are a synchronization mechanism that allows tasks to synchronize with events that occur in the system. They are typically used when multiple tasks need to synchronize their execution based on the occurrence of specific events.\n",
    "\n",
    "Here's how event groups work in FreeRTOS:\n",
    "\n",
    "1. Creation: An event group is created using the ```xEventGroupCreate``` function. This function returns a handle to the created event group, which can be used in other API functions.\n",
    "\n",
    "2. Event Bits: Each event group contains a set of event bits, which are individual flags that can be set or cleared. The number of event bits in an event group is determined by the number of bits in the ```EventBits_t``` type, which is typically a 32-bit unsigned integer.\n",
    "\n",
    "3. Task Synchronization: Tasks can wait for specific event bits to be set or cleared using the ```xEventGroupWaitBits``` function. This function allows tasks to block until one or more specified event bits are set or cleared. Tasks can choose whether to clear the event bits after they are detected.\n",
    "\n",
    "4. Setting Event Bits: Event bits can be set or cleared using the ```xEventGroupSetBits``` and ```xEventGroupClearBits``` functions, respectively. These functions allow tasks or ISRs to signal the occurrence of specific events by setting or clearing the corresponding event bits in the event group.\n",
    "\n",
    "5. Waiting from ISRs: Tasks can also wait for event bits to be set from ISRs using the ```xEventGroupWaitBitsFromISR``` function. This function is specifically designed to be called from ISR context and allows tasks to synchronize with events triggered by ISRs.\n",
    "\n",
    "6. Notification: Event groups can also be used as a mechanism for task notification. Tasks can wait for any event bit to be set using the ```xEventGroupWaitBits``` function with a zero timeout value, effectively waiting for any event bit to be set. This can be used to implement a notification mechanism where tasks are notified of specific events.\n",
    "\n",
    "Overall, event groups provide a flexible and efficient way for tasks to synchronize their execution based on the occurrence of specific events in the system. They are particularly useful in scenarios where tasks need to coordinate their actions based on the availability of resources or the occurrence of external events."
   ]
  }
 ],
 "metadata": {
  "kernelspec": {
   "display_name": "C++17",
   "language": "C++17",
   "name": "xcpp17"
  },
  "language_info": {
   "name": "C++17"
  }
 },
 "nbformat": 4,
 "nbformat_minor": 2
}
