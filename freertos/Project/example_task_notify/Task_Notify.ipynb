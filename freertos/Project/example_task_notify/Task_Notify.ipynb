{
 "cells": [
  {
   "cell_type": "markdown",
   "metadata": {},
   "source": [
    "# RTOS Task Notifications\n",
    "\n",
    "- Each RTOS task has an array of task notifications. Each task notification has a notification state that can be either 'pending' or 'not pending', and a 32-bit notification value. \n",
    "- The constant configTASK_NOTIFICATION_ARRAY_ENTRIES sets the number of indexes in the task notification array. Prior to FreeRTOS V10.4.0 tasks only had a single task notification, not an array of notifications.\n",
    "\n",
    "- A direct to task notification is an event sent directly to a task, rather than indirectly to a task via an intermediary object such as a queue, event group or semaphore\n",
    "\n",
    "-  Sending a direct to task notification to a task sets the state of the target task notification to 'pending'. \n",
    "- Just as a task can block on an intermediary object such as a semaphore to wait for that semaphore to be available, a task can block on a task notification to wait for that notification's state to become pending.\n",
    "\n",
    "- Calling xTaskNotifyWait()/xTaskNotifyWaitIndexed() to read a notification value clears that notification's state to 'not pending'.\n",
    "\n",
    "## Performance Benefits and Usage Restrictions\n",
    "\n",
    "- Unblocking an RTOS task with a direct notification is 45% faster * and uses less RAM than unblocking a task using an intermediary object such as a binary semaphore.\n",
    "- use case limitations:\n",
    "    + RTOS task notifications can only be used when there is only one task that can be the recipient of the event. This condition is however met in the majority of real world use cases, such as an interrupt unblocking a task that will process the data received by the interrupt.\n",
    "    + Only in the case where an RTOS task notification is used in place of a queue: While a receiving task can wait for a notification in the Blocked state (so not consuming any CPU time), a sending task cannot wait in the Blocked state for a send to complete if the send cannot complete immediately.\n",
    "\n",
    "\n"
   ]
  }
 ],
 "metadata": {
  "kernelspec": {
   "display_name": "C++17",
   "language": "C++17",
   "name": "xcpp17"
  },
  "language_info": {
   "name": "C++17"
  }
 },
 "nbformat": 4,
 "nbformat_minor": 2
}
