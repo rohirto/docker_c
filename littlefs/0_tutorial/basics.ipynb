{
 "cells": [
  {
   "cell_type": "markdown",
   "metadata": {},
   "source": [
    "# Little FS\n",
    "\n",
    "- The little file system (LittleFS) is a fail-safe file system designed for embedded systems, specifically for microcontrollers that use external flash storage.\n",
    "\n",
    "- Microcontrollers and flash storage present three challenges for embedded storage: **power loss, wear and limited RAM and ROM**. This file system provides a solution to all three of these problems.\n",
    "\n",
    "1. **Bounded RAM/ROM** - This file system works with a limited amount of memory. It avoids recursion and limits dynamic memory to configurable buffers that can be provided statically.\n",
    "\n",
    "2. **Power-loss resilient** - It has strong copy-on-write guarantees and keeps storage on disk in a valid state.\n",
    "\n",
    "3. **Wear leveling** - Because the most common form of embedded storage is erodible flash memories, the file system provides a form of dynamic wear leveling for systems that cannot fit a full flash translation layer.\n",
    "\n",
    "## Characterstics\n",
    "\n",
    "- external flash storage\n",
    "- Thread Safety\n",
    "\n",
    "## Issues\n",
    "\n",
    "- PC support - compared to FATFS - not detectable\n"
   ]
  }
 ],
 "metadata": {
  "language_info": {
   "name": "python"
  }
 },
 "nbformat": 4,
 "nbformat_minor": 2
}
