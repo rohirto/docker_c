{
 "cells": [
  {
   "cell_type": "code",
   "execution_count": null,
   "metadata": {
    "vscode": {
     "languageId": "cmake"
    }
   },
   "outputs": [],
   "source": []
  },
  {
   "cell_type": "markdown",
   "metadata": {},
   "source": [
    "# Adding a Library\n",
    "\n",
    "To add a library in CMake, use the ```add_library()``` command and specify which source files should make up the library.\n",
    "\n",
    "Rather than placing all of the source files in one directory, we can organize our project with one or more subdirectories. \n",
    "\n",
    "In this case, we will create a subdirectory specifically for our library. Here, we can add a new CMakeLists.txt file and one or more source files. \n",
    "\n",
    "In the top level CMakeLists.txt file, we will use the add_subdirectory() command to add the subdirectory to the build.\n",
    "\n",
    "Once the library is created, it is connected to our executable target with target_include_directories() and target_link_libraries().\n",
    "\n"
   ]
  },
  {
   "cell_type": "markdown",
   "metadata": {},
   "source": [
    "## Steps\n",
    "\n",
    "1. In the CMakeLists.txt file in the MathFunctions directory, we create a library target called MathFunctions with add_library(). The source files for the library are passed as an argument to add_library(). This looks like the following line:"
   ]
  },
  {
   "cell_type": "code",
   "execution_count": null,
   "metadata": {
    "vscode": {
     "languageId": "cmake"
    }
   },
   "outputs": [],
   "source": [
    "# TODO 1: Add a library called MathFunctions with sources MathFunctions.cxx\n",
    "# and mysqrt.cxx\n",
    "# Hint: You will need the add_library command\n",
    "add_library(MathFunctions MathFunctions.cxx mysqrt.cxx)"
   ]
  },
  {
   "cell_type": "markdown",
   "metadata": {},
   "source": [
    "2. To make use of the new library we will add an add_subdirectory() call in the top-level CMakeLists.txt file so that the library will get built."
   ]
  },
  {
   "cell_type": "code",
   "execution_count": null,
   "metadata": {
    "vscode": {
     "languageId": "cmake"
    }
   },
   "outputs": [],
   "source": [
    "# TODO 2: Use add_subdirectory() to add MathFunctions to this project\n",
    "add_subdirectory(MathFunctions)"
   ]
  },
  {
   "cell_type": "markdown",
   "metadata": {},
   "source": [
    "3. Next, the new library target is linked to the executable target using target_link_libraries()."
   ]
  },
  {
   "cell_type": "code",
   "execution_count": null,
   "metadata": {
    "vscode": {
     "languageId": "cmake"
    }
   },
   "outputs": [],
   "source": [
    "# TODO 3: Use target_link_libraries to link the library to our executable\n",
    "target_link_libraries(Tutorial PUBLIC MathFunctions)"
   ]
  },
  {
   "cell_type": "markdown",
   "metadata": {},
   "source": [
    "4. Finally we need to specify the library's header file location. Modify target_include_directories() to add the MathFunctions subdirectory as an include directory so that the MathFunctions.h header file can be found."
   ]
  },
  {
   "cell_type": "code",
   "execution_count": null,
   "metadata": {
    "vscode": {
     "languageId": "cmake"
    }
   },
   "outputs": [],
   "source": [
    "# TODO 4: Add MathFunctions to Tutorial's target_include_directories()\n",
    "# Hint: ${PROJECT_SOURCE_DIR} is a path to the project source. AKA This folder!\n",
    "\n",
    "# add the binary tree to the search path for include files\n",
    "# so that we will find TutorialConfig.h\n",
    "target_include_directories(Tutorial PUBLIC\n",
    "                          \"${PROJECT_BINARY_DIR}\"\n",
    "                          \"${PROJECT_SOURCE_DIR}/MathFunctions\"\n",
    "                          )"
   ]
  },
  {
   "cell_type": "markdown",
   "metadata": {},
   "source": [
    "5. Now let's use our library. In tutorial.cxx, include MathFunctions.h:"
   ]
  },
  {
   "cell_type": "code",
   "execution_count": null,
   "metadata": {
    "vscode": {
     "languageId": "cpp"
    }
   },
   "outputs": [],
   "source": [
    "#include \"MathFunctions.h\""
   ]
  },
  {
   "cell_type": "markdown",
   "metadata": {},
   "source": [
    "6. Lastly, replace sqrt with the wrapper function mathfunctions::sqrt."
   ]
  },
  {
   "cell_type": "code",
   "execution_count": null,
   "metadata": {
    "vscode": {
     "languageId": "cpp"
    }
   },
   "outputs": [],
   "source": [
    " const double outputValue = mathfunctions::sqrt(inputValue);"
   ]
  },
  {
   "cell_type": "markdown",
   "metadata": {},
   "source": [
    "## Adding and Option\n",
    "\n",
    "Now let us add an option in the MathFunctions library to allow developers to select either the custom square root implementation or the built in standard implementation. \n",
    "\n",
    "While for the tutorial there really isn't any need to do so, for larger projects this is a common occurrence.\n",
    "\n",
    "CMake can do this using the option() command. This gives users a variable which they can change when configuring their cmake build. \n",
    "\n",
    "This setting will be stored in the cache so that the user does not need to set the value each time they run CMake on a build directory.\n",
    "\n",
    "- First create a variable USE_MYMATH using the option() command in MathFunctions/CMakeLists.txt. In that same file, use that option to pass a compile definition to the MathFunctions library.\n",
    "- Then, update MathFunctions.cxx to redirect compilation based on USE_MYMATH.\n",
    "- Lastly, prevent mysqrt.cxx from being compiled when USE_MYMATH is on by making it its own library inside of the USE_MYMATH block of MathFunctions/CMakeLists.txt."
   ]
  },
  {
   "cell_type": "markdown",
   "metadata": {},
   "source": [
    "\n",
    "## Steps\n",
    "\n",
    "1. The first step is to add an option to MathFunctions/CMakeLists.txt. This option will be displayed in the cmake-gui and ccmake with a default value of ON that can be changed by the user."
   ]
  },
  {
   "cell_type": "code",
   "execution_count": null,
   "metadata": {
    "vscode": {
     "languageId": "cmake"
    }
   },
   "outputs": [],
   "source": [
    "# TODO 7: Create a variable USE_MYMATH using option and set default to ON\n",
    "option(USE_MYMATH \"Use tutorial provided math implementation\" ON)"
   ]
  },
  {
   "cell_type": "markdown",
   "metadata": {},
   "source": [
    "2. Next, make building and linking our library with mysqrt function conditional using this new option.\n",
    "\n",
    "Create an if() statement which checks the value of USE_MYMATH. Inside the if() block, put the target_compile_definitions() command with the compile definition USE_MYMATH."
   ]
  },
  {
   "cell_type": "code",
   "execution_count": null,
   "metadata": {
    "vscode": {
     "languageId": "cmake"
    }
   },
   "outputs": [],
   "source": [
    "# TODO 8: If USE_MYMATH is ON, use target_compile_definitions to pass\n",
    "# USE_MYMATH as a precompiled definition to our source files\n",
    "if (USE_MYMATH)\n",
    "  target_compile_definitions(MathFunctions PRIVATE \"USE_MYMATH\")\n",
    "endif()"
   ]
  },
  {
   "cell_type": "markdown",
   "metadata": {},
   "source": [
    "3. When USE_MYMATH is ON, the compile definition USE_MYMATH will be set. We can then use this compile definition to enable or disable sections of our source code.\n",
    "\n",
    "The corresponding changes to the source code are fairly straightforward. In MathFunctions.cxx, we make USE_MYMATH control which square root function is used:"
   ]
  },
  {
   "cell_type": "code",
   "execution_count": null,
   "metadata": {
    "vscode": {
     "languageId": "cpp"
    }
   },
   "outputs": [],
   "source": [
    "// TODO 9: If USE_MYMATH is defined, use detail::mysqrt.\n",
    "// Otherwise, use std::sqrt.\n",
    "#ifdef USE_MYMATH\n",
    "    return detail::mysqrt(x);\n",
    "#else\n",
    "    return std::sqrt(x);\n",
    "#endif"
   ]
  },
  {
   "cell_type": "markdown",
   "metadata": {},
   "source": [
    "4. Next, we need to include mysqrt.h if USE_MYMATH is defined."
   ]
  },
  {
   "cell_type": "code",
   "execution_count": null,
   "metadata": {
    "vscode": {
     "languageId": "cpp"
    }
   },
   "outputs": [],
   "source": [
    "#ifdef USE_MYMATH\n",
    "#  include \"mysqrt.h\"\n",
    "#endif"
   ]
  },
  {
   "cell_type": "markdown",
   "metadata": {},
   "source": [
    "5. Finally, we need to include cmath now that we are using std::sqrt."
   ]
  },
  {
   "cell_type": "code",
   "execution_count": null,
   "metadata": {
    "vscode": {
     "languageId": "cpp"
    }
   },
   "outputs": [],
   "source": [
    "// TODO 11: include cmath\n",
    "#include <cmath>"
   ]
  },
  {
   "cell_type": "markdown",
   "metadata": {},
   "source": [
    "At this point, if USE_MYMATH is OFF, mysqrt.cxx would not be used but it will still be compiled because the MathFunctions target has mysqrt.cxx listed under sources.\n",
    "\n",
    "There are a few ways to fix this. The first option is to use target_sources() to add mysqrt.cxx from within the USE_MYMATH block. Another option is to create an additional library within the USE_MYMATH block which is responsible for compiling mysqrt.cxx. For the sake of this tutorial, we are going to create an additional library."
   ]
  },
  {
   "cell_type": "markdown",
   "metadata": {},
   "source": [
    "6. First, from within USE_MYMATH create a library called SqrtLibrary that has sources mysqrt.cxx."
   ]
  },
  {
   "cell_type": "code",
   "execution_count": null,
   "metadata": {
    "vscode": {
     "languageId": "cmake"
    }
   },
   "outputs": [],
   "source": [
    "# TODO 12: When USE_MYMATH is ON, add a library for SqrtLibrary with\n",
    "# source mysqrt.cxx\n",
    "add_library(SqrtLibrary STATIC\n",
    "mysqrt.cxx\n",
    ")"
   ]
  },
  {
   "cell_type": "markdown",
   "metadata": {},
   "source": [
    "7. Next, we link SqrtLibrary onto MathFunctions when USE_MYMATH is enabled."
   ]
  },
  {
   "cell_type": "code",
   "execution_count": null,
   "metadata": {
    "vscode": {
     "languageId": "cmake"
    }
   },
   "outputs": [],
   "source": [
    "# TODO 13: When USE_MYMATH is ON, link SqrtLibrary to the MathFunctions Library\n",
    "target_link_libraries(MathFunctions PRIVATE SqrtLibrary)"
   ]
  },
  {
   "cell_type": "markdown",
   "metadata": {},
   "source": [
    "8. Finally, we can remove mysqrt.cxx from our MathFunctions library source list because it will be pulled in when SqrtLibrary is included."
   ]
  },
  {
   "cell_type": "code",
   "execution_count": null,
   "metadata": {
    "vscode": {
     "languageId": "cmake"
    }
   },
   "outputs": [],
   "source": []
  }
 ],
 "metadata": {
  "kernelspec": {
   "display_name": "C++17",
   "language": "C++17",
   "name": "xcpp17"
  },
  "language_info": {
   "codemirror_mode": "text/x-c++src",
   "file_extension": ".cpp",
   "mimetype": "text/x-c++src",
   "name": "c++",
   "version": "17"
  }
 },
 "nbformat": 4,
 "nbformat_minor": 2
}
