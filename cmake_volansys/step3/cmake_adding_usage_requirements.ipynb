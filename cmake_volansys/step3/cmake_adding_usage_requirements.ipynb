{
 "cells": [
  {
   "cell_type": "code",
   "execution_count": null,
   "metadata": {
    "vscode": {
     "languageId": "cmake"
    }
   },
   "outputs": [],
   "source": []
  },
  {
   "cell_type": "markdown",
   "metadata": {},
   "source": [
    "# Adding Usage Requirements for a Library\n",
    "\n",
    "Usage requirements of a target parameters allow for far better control over a library or executable's link and include line while also giving more control over the transitive property of targets inside CMake.\n",
    "\n",
    "In this exercise, we will refactor our code from Adding a Library to use the modern CMake approach. \n",
    "\n",
    "We will let our library define its own usage requirements so they are passed transitively to other targets as necessary. \n",
    "\n",
    "In this case, MathFunctions will specify any needed include directories itself. Then, the consuming target Tutorial simply needs to link to MathFunctions and not worry about any additional include directories.\n",
    "\n",
    "First, add a call to target_include_directories() in MathFunctions/CMakeLists. Remember that CMAKE_CURRENT_SOURCE_DIR is the path to the source directory currently being processed.\n",
    "\n",
    "Then, update (and simplify!) the call to target_include_directories() in the top-level CMakeLists.txt."
   ]
  },
  {
   "cell_type": "markdown",
   "metadata": {},
   "source": [
    "## Steps\n",
    "\n",
    "We want to state that anybody linking to MathFunctions needs to include the current source directory, while MathFunctions itself doesn't. This can be expressed with an INTERFACE usage requirement. Remember INTERFACE means things that consumers require but the producer doesn't.\n",
    "\n",
    "1. At the end of MathFunctions/CMakeLists.txt, use target_include_directories() with the INTERFACE keyword, as follows:"
   ]
  },
  {
   "cell_type": "code",
   "execution_count": null,
   "metadata": {
    "vscode": {
     "languageId": "cmake"
    }
   },
   "outputs": [],
   "source": [
    "# TODO 1: State that anybody linking to MathFunctions needs to include the\n",
    "# current source directory, while MathFunctions itself doesn't.\n",
    "# Hint: Use target_include_directories with the INTERFACE keyword\n",
    "target_include_directories(MathFunctions\n",
    "                           INTERFACE ${CMAKE_CURRENT_SOURCE_DIR}\n",
    "                           )"
   ]
  },
  {
   "cell_type": "markdown",
   "metadata": {},
   "source": [
    "2. Now that we've specified usage requirements for MathFunctions we can safely remove our uses of the EXTRA_INCLUDES variable from the top-level CMakeLists.txt.\n",
    "\n",
    "Remove this line:"
   ]
  },
  {
   "cell_type": "code",
   "execution_count": null,
   "metadata": {
    "vscode": {
     "languageId": "cmake"
    }
   },
   "outputs": [],
   "source": [
    "# TODO 2: Remove EXTRA_INCLUDES list\n",
    "\n",
    "# add the MathFunctions library\n",
    "add_subdirectory(MathFunctions)\n",
    "#list(APPEND EXTRA_INCLUDES \"${PROJECT_SOURCE_DIR}/MathFunctions\")"
   ]
  },
  {
   "cell_type": "markdown",
   "metadata": {},
   "source": [
    "3. And remove EXTRA_INCLUDES from target_include_directories:"
   ]
  },
  {
   "cell_type": "code",
   "execution_count": null,
   "metadata": {
    "vscode": {
     "languageId": "cmake"
    }
   },
   "outputs": [],
   "source": [
    "# TODO 3: Remove use of EXTRA_INCLUDES\n",
    "\n",
    "# add the binary tree to the search path for include files\n",
    "# so that we will find TutorialConfig.h\n",
    "target_include_directories(Tutorial PUBLIC\n",
    "                           \"${PROJECT_BINARY_DIR}\"\n",
    "                           )"
   ]
  },
  {
   "cell_type": "markdown",
   "metadata": {},
   "source": [
    "Notice that with this technique, the only thing our executable target does to use our library is call target_link_libraries() with the name of the library target. In larger projects, the classic method of specifying library dependencies manually becomes very complicated very quickly."
   ]
  },
  {
   "cell_type": "markdown",
   "metadata": {},
   "source": [
    "# Setting the C++ Standard with Interface Libraries\n",
    "\n",
    "Now that we have switched our code to a more modern approach, let's demonstrate a modern technique to set properties to multiple targets.\n",
    "\n",
    "Let's refactor our existing code to use an INTERFACE library. We will use that library in the next step to demonstrate a common use for generator expressions.\n",
    "\n",
    "In this exercise, we will refactor our code to use an INTERFACE library to specify the C++ standard.\n",
    "\n",
    "Start this exercise from what we left at the end of Step3 exercise 1. You will have to complete TODO 4 through TODO 7.\n",
    "\n",
    "Start by editing the top level CMakeLists.txt file. Construct an INTERFACE library target called tutorial_compiler_flags and specify cxx_std_11 as a target compiler feature.\n",
    "\n",
    "Modify CMakeLists.txt and MathFunctions/CMakeLists.txt so that all targets have a target_link_libraries() call to tutorial_compiler_flags."
   ]
  },
  {
   "cell_type": "markdown",
   "metadata": {},
   "source": [
    "Let's update our code from the previous step to use interface libraries to set our C++ requirements.\n",
    "\n",
    "To start, we need to remove the two set() calls on the variables CMAKE_CXX_STANDARD and CMAKE_CXX_STANDARD_REQUIRED. The specific lines to remove are as follows:"
   ]
  },
  {
   "cell_type": "code",
   "execution_count": null,
   "metadata": {
    "vscode": {
     "languageId": "cmake"
    }
   },
   "outputs": [],
   "source": [
    "set(CMAKE_CXX_STANDARD 11)\n",
    "set(CMAKE_CXX_STANDARD_REQUIRED True)"
   ]
  },
  {
   "cell_type": "markdown",
   "metadata": {},
   "source": [
    "4. Next, we need to create an interface library, tutorial_compiler_flags. And then use target_compile_features() to add the compiler feature cxx_std_11."
   ]
  },
  {
   "cell_type": "code",
   "execution_count": null,
   "metadata": {
    "vscode": {
     "languageId": "cmake"
    }
   },
   "outputs": [],
   "source": [
    "# TODO 4: Replace the following code by:\n",
    "# * Creating an interface library called tutorial_compiler_flags\n",
    "#   Hint: use add_library() with the INTERFACE signature\n",
    "# * Add compiler feature cxx_std_11 to tutorial_compiler_flags\n",
    "#   Hint: Use target_compile_features()\n",
    "add_library(tutorial_compiler_flags INTERFACE)\n",
    "target_compile_features(tutorial_compiler_flags INTERFACE cxx_std_11)"
   ]
  },
  {
   "cell_type": "markdown",
   "metadata": {},
   "source": [
    "5. Finally, with our interface library set up, we need to link our executable Tutorial, our SqrtLibrary library and our MathFunctions library to our new tutorial_compiler_flags library. Respectively, the code will look like this:"
   ]
  },
  {
   "cell_type": "code",
   "execution_count": null,
   "metadata": {
    "vscode": {
     "languageId": "cmake"
    }
   },
   "outputs": [],
   "source": [
    "# TODO 5: Link Tutorial to tutorial_compiler_flags\n",
    "target_link_libraries(Tutorial PUBLIC MathFunctions tutorial_compiler_flags)\n",
    "target_link_libraries(SqrtLibrary PUBLIC tutorial_compiler_flags)\n",
    "target_link_libraries(MathFunctions PUBLIC tutorial_compiler_flags)"
   ]
  },
  {
   "cell_type": "markdown",
   "metadata": {},
   "source": [
    "With this, all of our code still requires C++ 11 to build. Notice though that with this method, it gives us the ability to be specific about which targets get specific requirements. In addition, we create a single source of truth in our interface library."
   ]
  }
 ],
 "metadata": {
  "kernelspec": {
   "display_name": "C++17",
   "language": "C++17",
   "name": "xcpp17"
  },
  "language_info": {
   "name": "C++17"
  }
 },
 "nbformat": 4,
 "nbformat_minor": 2
}
