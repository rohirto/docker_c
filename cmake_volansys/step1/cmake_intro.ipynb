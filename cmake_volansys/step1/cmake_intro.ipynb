{
 "cells": [
  {
   "cell_type": "markdown",
   "metadata": {},
   "source": [
    "# Cmake\n",
    "\n",
    "- CMake is a cross-platform build system generator. It's designed to be platform-independent and can generate Makefiles, project files for IDEs (e.g., Visual Studio), or other build configurations.\n",
    "- CMake simplifies the process of building complex software projects by providing a unified way to describe and manage the build process across different platforms.\n",
    "\n",
    "# CMakeLists.txt:\n",
    "\n",
    "- CMakeLists.txt is a configuration file used in CMake projects. It's typically placed in the root directory of a project.\n",
    "- This file contains instructions for CMake on how to build the project. It specifies details like source files, dependencies, compiler options, and more.\n",
    "- CMakeLists.txt is written in a specific CMake scripting language, and it allows you to define targets, set properties, and configure the build process."
   ]
  },
  {
   "cell_type": "markdown",
   "metadata": {},
   "source": [
    "# Basic Steps\n",
    "1. Basic Cmake version: cmake_minimum_required()\n",
    "2. Project Name: project()\n",
    "3. Create Executable: add_executable()\n",
    "\n",
    "All the above steps are done in CmakeLists.txt\n",
    "\n"
   ]
  },
  {
   "cell_type": "code",
   "execution_count": null,
   "metadata": {
    "vscode": {
     "languageId": "makefile"
    }
   },
   "outputs": [],
   "source": [
    "# TODO 1: Set the minimum required version of CMake to be 3.10\n",
    "cmake_minimum_required(VERSION 3.10)\n",
    "\n",
    "# TODO 2: Create a project named Tutorial\n",
    "project(square)\n",
    "\n",
    "# TODO 3: Add an executable called Tutorial to the project\n",
    "# Hint: Be sure to specify the source file as tutorial.cxx\n",
    "add_executable(square tutorial.cxx)"
   ]
  },
  {
   "cell_type": "markdown",
   "metadata": {},
   "source": [
    "# Setting C++ Standards\n",
    "\n",
    "Using set() command"
   ]
  },
  {
   "cell_type": "code",
   "execution_count": null,
   "metadata": {
    "vscode": {
     "languageId": "makefile"
    }
   },
   "outputs": [],
   "source": [
    "# Uses C++11 Standard\n",
    "set(CMAKE_CXX_STANDARD 11) \n",
    "\n",
    "#C++11 standard mandatory for build\n",
    "set(CMAKE_CXX_STANDARD_REQUIRED True)"
   ]
  },
  {
   "cell_type": "markdown",
   "metadata": {},
   "source": [
    "# Adding a Version Number and Configured header file\n",
    "\n",
    "Sometimes it may be useful to have a variable that is defined in your CMakelists.txt file also be available in your source code. In this case, we would like to print the project version.\n",
    "\n",
    "One way to accomplish this is by using a configured header file.\n",
    "\n",
    "Syntax of these variable:\n",
    "```@VAR@```\n",
    "\n",
    "Use of ```configure_file()``` command to copy the input file to a given output file and replace these variables with the current value of VAR in the CMakelists.txt file.\n",
    "\n",
    "While we could edit the version directly in the source code, using this feature is preferred since it creates a single source of truth and avoids duplication.\n",
    "```project()``` command to set project\n",
    "\n",
    "\n",
    "TutorialConfig.h.in is the input header file to be configured. When ```configure_file()``` is called from our CMakeLists.txt, the values for ```@Tutorial_VERSION_MAJOR@``` and ```@Tutorial_VERSION_MINOR@``` will be replaced with the corresponding version numbers from the project in TutorialConfig.h."
   ]
  },
  {
   "cell_type": "code",
   "execution_count": null,
   "metadata": {
    "vscode": {
     "languageId": "makefile"
    }
   },
   "outputs": [],
   "source": [
    "# TODO 7: Set the project version number as 1.0 in the above project command\n",
    "project(square VERSION 1.0)\n",
    "\n",
    "# TODO 8: Use configure_file to configure and copy TutorialConfig.h.in to\n",
    "#         TutorialConfig.h\n",
    "configure_file(TutorialConfig.h.in TutorialConfig.h)\n",
    "\n",
    "# TODO 9: Use target_include_directories to include ${PROJECT_BINARY_DIR}\n",
    "target_include_directories(sqaure PUBLIC\n",
    "                           \"${PROJECT_BINARY_DIR}\"\n",
    "                           )"
   ]
  },
  {
   "cell_type": "code",
   "execution_count": null,
   "metadata": {
    "vscode": {
     "languageId": "c"
    }
   },
   "outputs": [],
   "source": [
    "// the configured options and settings for Tutorial\n",
    "// TODO 10: Define Tutorial_VERSION_MAJOR and Tutorial_VERSION_MINOR\n",
    "#define Tutorial_VERSION_MAJOR @Tutorial_VERSION_MAJOR@\n",
    "#define Tutorial_VERSION_MINOR @Tutorial_VERSION_MINOR@"
   ]
  },
  {
   "cell_type": "code",
   "execution_count": null,
   "metadata": {
    "vscode": {
     "languageId": "c"
    }
   },
   "outputs": [],
   "source": [
    "//In tuorial.cxx\n",
    "\n",
    "// TODO 11: Include TutorialConfig.h\n",
    "#include \"TutorialConfig.h\"\n",
    "\n",
    "// TODO 12: Create a print statement using Tutorial_VERSION_MAJOR\n",
    "    //          and Tutorial_VERSION_MINOR\n",
    "    // report version\n",
    "    std::cout << argv[0] << \" Version \" << square_VERSION_MAJOR << \".\" << square_VERSION_MINOR << std::endl;\n",
    "    std::cout << \"Usage: \" << argv[0] << \" number\" << std::endl;\n",
    "    return 1;"
   ]
  }
 ],
 "metadata": {
  "kernelspec": {
   "display_name": "C++17",
   "language": "C++17",
   "name": "xcpp17"
  },
  "language_info": {
   "codemirror_mode": "text/x-c++src",
   "file_extension": ".cpp",
   "mimetype": "text/x-c++src",
   "name": "C++17",
   "version": "17"
  }
 },
 "nbformat": 4,
 "nbformat_minor": 2
}
